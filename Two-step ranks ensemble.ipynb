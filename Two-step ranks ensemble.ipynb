{
 "cells": [
  {
   "cell_type": "code",
   "execution_count": 1,
   "id": "committed-adobe",
   "metadata": {},
   "outputs": [],
   "source": [
    "import numpy as np\n",
    "import h5py\n",
    "import json\n",
    "import numpy as np\n",
    "import torch.nn.functional as F\n",
    "import torch.utils.data\n",
    "from progress.bar import Bar\n",
    "from collections import defaultdict\n",
    "import pandas as pd\n",
    "from collections import Counter\n",
    "import seaborn as sns\n",
    "import itertools\n",
    "from utils import *\n",
    "sns.set(font_scale=1.5, rc={'text.usetex' : True})\n",
    "sns.set_style(\"white\")"
   ]
  },
  {
   "cell_type": "markdown",
   "id": "painted-individual",
   "metadata": {},
   "source": [
    "# Load metadata"
   ]
  },
  {
   "cell_type": "code",
   "execution_count": 2,
   "id": "abstract-edition",
   "metadata": {},
   "outputs": [],
   "source": [
    "h5 = h5py.File(\"data/visdial_data.h5\", 'r')\n",
    "js = json.load(open('data/visdial_params.json', 'r'))\n",
    "ann_reader_val = DenseAnnotationsReader(\"data/visdial_1.0_val_dense_annotations.json\")\n",
    "test_ans = torch.LongTensor(h5[\"ans_index_val\"][:].astype(int))\n",
    "ndcg = NDCG()\n",
    "sparse_metrics = SparseGTMetrics()"
   ]
  },
  {
   "cell_type": "markdown",
   "id": "suburban-pavilion",
   "metadata": {},
   "source": [
    "### help functions"
   ]
  },
  {
   "cell_type": "code",
   "execution_count": 3,
   "id": "reliable-initial",
   "metadata": {},
   "outputs": [],
   "source": [
    "def scores_norm(x):\n",
    "    '''\n",
    "    used in naive ensemble: normalize scores before fusing\n",
    "    :param scores: scores\n",
    "    :return: normalized scores\n",
    "    '''\n",
    "    return F.normalize(x)"
   ]
  },
  {
   "cell_type": "code",
   "execution_count": 4,
   "id": "single-aviation",
   "metadata": {},
   "outputs": [],
   "source": [
    "def eval_model(scores):\n",
    "    '''\n",
    "    measure and print performance on the validation set\n",
    "    :param scores: a visidal output on validation set\n",
    "    :return: ndcg and mrr results\n",
    "    '''\n",
    "    ordered_options_list = scores.data.sort(dim=1, descending=True)[1] + 1\n",
    "    groundtruth_rank = (ordered_options_list == test_ans.view(-1, 1)).max(dim=1)[1] + 1\n",
    "    metrics = defaultdict(int)\n",
    "    metrics[\"r1\"] = float((groundtruth_rank == 1).sum()) / scores.size(0)\n",
    "    metrics[\"r5\"] = float((groundtruth_rank <= 5).sum()) / scores.size(0)\n",
    "    metrics[\"r10\"] = float((groundtruth_rank <= 10).sum()) / scores.size(0)\n",
    "    metrics[\"mrr\"] = groundtruth_rank.float().reciprocal().sum() / scores.size(0)\n",
    "    metrics[\"mrank\"] = float(groundtruth_rank.sum()) / scores.size(0)\n",
    "    print('R1: {:.4f}, R5: {:.4f}, R10: {:.4f}, MRR: {:.4f}, MRank: {:.4f}\\n'.format(\n",
    "        metrics[\"r1\"], metrics[\"r5\"], metrics[\"r10\"],\n",
    "        metrics[\"mrr\"], metrics[\"mrank\"]))\n",
    "    b = int(scores.size()[0]/10)\n",
    "    scores = scores.view(b, 10, 100)\n",
    "    p_acc = np.zeros(shape=(b, 100))\n",
    "    r_acc = np.zeros(shape=(b, 100))\n",
    "    for d in range(scores.size(0)):\n",
    "        image_id = int(js[f\"unique_img_val\"][d][-16:-4])\n",
    "        dense_annotations = ann_reader_val[image_id]\n",
    "        output_true, dense_round = dense_annotations[\"gt_relevance\"], dense_annotations[\"round_id\"]\n",
    "        dense_round -= 1\n",
    "        output_predict = scores[d][dense_round]\n",
    "        p_acc[d] = output_predict\n",
    "        r_acc[d] = output_true\n",
    "        p_acc = torch.Tensor(p_acc)\n",
    "    r_acc = torch.Tensor(r_acc)\n",
    "    ndcg.observe(p_acc, r_acc)\n",
    "    metric = ndcg.retrieve()\n",
    "    print(metric)\n",
    "    return metric['ndcg'], metrics[\"mrr\"].item()"
   ]
  },
  {
   "cell_type": "code",
   "execution_count": 5,
   "id": "exact-posting",
   "metadata": {},
   "outputs": [],
   "source": [
    "js_ndcg = json.load(open('data/visdial_1.0_val_processed.json', 'r'))\n",
    "def align_bert_model(path, default_model):\n",
    "    '''\n",
    "    Align output of Large-scale model. See issue here https://github.com/vmurahari3/visdial-bert/issues/9\n",
    "    :param path: path to visdial-bert model\n",
    "    :param default_model: default model for missing values\n",
    "    :return: ndcg aligned model\n",
    "    '''\n",
    "    ndcg_model_missing = torch.Tensor(np.load(path))\n",
    "    ndcg_model = torch.zeros(size=(2064, 10, 100))\n",
    "    default_model = default_model.view(-1,10,100)\n",
    "    mrr_i = 0\n",
    "    for i, d in enumerate(js_ndcg['data']['dialogs']):\n",
    "        if int(js['unique_img_val'][mrr_i][-16:-4]) == int(d['image_id']):\n",
    "            #ndcg_model[mrr_i] = ndcg_model_missing[i]\n",
    "            for dialog_round in range(10):\n",
    "                scores = ndcg_model_missing[i][dialog_round].tolist().copy()\n",
    "                gt_answer_score = scores.pop(0)\n",
    "                gt_index = js_ndcg['data']['dialogs'][i]['dialog'][dialog_round]['gt_index']\n",
    "                scores.insert(gt_index, gt_answer_score)\n",
    "                ndcg_model[mrr_i][dialog_round] = torch.FloatTensor(scores)\n",
    "        else:\n",
    "            #no-answer; copy mrr result\n",
    "            ndcg_model[mrr_i] = default_model[mrr_i]\n",
    "            mrr_i += 1\n",
    "            if int(js['unique_img_val'][mrr_i][-16:-4]) == int(d['image_id']):\n",
    "                ndcg_model[mrr_i] = ndcg_model_missing[i]\n",
    "        mrr_i += 1\n",
    "    ndcg_model = ndcg_model.view(-1,100)\n",
    "    ndcg_model = F.softmax(ndcg_model, dim=1)\n",
    "    return ndcg_model"
   ]
  },
  {
   "cell_type": "code",
   "execution_count": 6,
   "id": "developed-score",
   "metadata": {},
   "outputs": [],
   "source": [
    "def scores_to_ranks(scores: torch.Tensor):\n",
    "    \"\"\"Convert model output scores into ranks.\"\"\"\n",
    "    batch_size, num_rounds, num_options = scores.size()\n",
    "    scores = scores.view(-1, num_options)\n",
    "\n",
    "    # sort in descending order - largest score gets highest rank\n",
    "    sorted_ranks, ranked_idx = scores.sort(1, descending=True)\n",
    "\n",
    "    # i-th position in ranked_idx specifies which score shall take this\n",
    "    # position but we want i-th position to have rank of score at that\n",
    "    # position, do this conversion\n",
    "    ranks = ranked_idx.clone().fill_(0)\n",
    "    for i in range(ranked_idx.size(0)):\n",
    "        for j in range(num_options):\n",
    "            ranks[i][ranked_idx[i][j]] = j\n",
    "    # convert from 0-99 ranks to 1-100 ranks\n",
    "    ranks += 1\n",
    "    ranks = ranks.view(batch_size, num_rounds, num_options)\n",
    "    return ranks"
   ]
  },
  {
   "cell_type": "markdown",
   "id": "different-ground",
   "metadata": {},
   "source": [
    "# MRR models naive ensemble"
   ]
  },
  {
   "cell_type": "markdown",
   "id": "protected-progressive",
   "metadata": {},
   "source": [
    "## 5xFGA"
   ]
  },
  {
   "cell_type": "code",
   "execution_count": 7,
   "id": "portable-graham",
   "metadata": {},
   "outputs": [],
   "source": [
    "models_dir = \"models\"\n",
    "models = ['fga1', 'fga2', 'fga3', 'fga4', 'fga5']"
   ]
  },
  {
   "cell_type": "code",
   "execution_count": 8,
   "id": "competitive-motel",
   "metadata": {},
   "outputs": [
    {
     "name": "stdout",
     "output_type": "stream",
     "text": [
      "R1: 0.5617, R5: 0.8615, R10: 0.9295, MRR: 0.6938, MRank: 3.3252\n",
      "\n",
      "{'ndcg': 0.5868231058120728}\n"
     ]
    },
    {
     "data": {
      "text/plain": [
       "(0.5868231058120728, 0.6937740445137024)"
      ]
     },
     "execution_count": 8,
     "metadata": {},
     "output_type": "execute_result"
    }
   ],
   "source": [
    "fga_ensemble = torch.zeros(size=(20640,100))\n",
    "\n",
    "for m in models:\n",
    "    val_output = torch.Tensor(np.load(f\"{models_dir}/{m}/output_scores.npy\")).view(-1, 100)    \n",
    "    fga_ensemble += F.softmax(val_output, dim=1).data\n",
    "\n",
    "fga_ensemble = scores_norm(fga_ensemble)\n",
    "eval_model(fga_ensemble)"
   ]
  },
  {
   "cell_type": "code",
   "execution_count": 9,
   "id": "everyday-cross",
   "metadata": {},
   "outputs": [],
   "source": [
    "mrr_bert_model = scores_norm(align_bert_model(f\"{models_dir}/visdial-bert/mrr_val_scores.npy\", fga_ensemble))\n",
    "mrr_nsp_model = scores_norm(align_bert_model(f\"{models_dir}/visdial-bert/mrr_nsp_val_scores.npy\", fga_ensemble))"
   ]
  },
  {
   "cell_type": "markdown",
   "id": "accomplished-electron",
   "metadata": {},
   "source": [
    "## LS + 5xFGA"
   ]
  },
  {
   "cell_type": "code",
   "execution_count": 10,
   "id": "quiet-editor",
   "metadata": {},
   "outputs": [
    {
     "name": "stdout",
     "output_type": "stream",
     "text": [
      "0.0\n",
      "R1: 0.5617, R5: 0.8615, R10: 0.9295, MRR: 0.6938, MRank: 3.3252\n",
      "\n",
      "{'ndcg': 0.5868231058120728}\n",
      "0.1\n",
      "R1: 0.5622, R5: 0.8675, R10: 0.9403, MRR: 0.6964, MRank: 3.0443\n",
      "\n",
      "{'ndcg': 0.6072832942008972}\n",
      "0.2\n",
      "R1: 0.5630, R5: 0.8728, R10: 0.9461, MRR: 0.6984, MRank: 2.9678\n",
      "\n",
      "{'ndcg': 0.6168334484100342}\n",
      "0.30000000000000004\n",
      "R1: 0.5643, R5: 0.8770, R10: 0.9484, MRR: 0.7004, MRank: 2.9230\n",
      "\n",
      "{'ndcg': 0.6225102543830872}\n",
      "0.4\n",
      "R1: 0.5654, R5: 0.8809, R10: 0.9490, MRR: 0.7023, MRank: 2.8924\n",
      "\n",
      "{'ndcg': 0.6282042860984802}\n",
      "0.5\n",
      "R1: 0.5673, R5: 0.8852, R10: 0.9494, MRR: 0.7047, MRank: 2.8654\n",
      "\n",
      "{'ndcg': 0.6331562399864197}\n",
      "0.6000000000000001\n",
      "R1: 0.5706, R5: 0.8872, R10: 0.9493, MRR: 0.7078, MRank: 2.8482\n",
      "\n",
      "{'ndcg': 0.6373842358589172}\n",
      "0.7000000000000001\n",
      "R1: 0.5753, R5: 0.8889, R10: 0.9488, MRR: 0.7115, MRank: 2.8359\n",
      "\n",
      "{'ndcg': 0.6428819298744202}\n",
      "0.8\n",
      "R1: 0.5829, R5: 0.8891, R10: 0.9481, MRR: 0.7170, MRank: 2.8272\n",
      "\n",
      "{'ndcg': 0.6479801535606384}\n",
      "0.9\n",
      "R1: 0.5920, R5: 0.8855, R10: 0.9452, MRR: 0.7225, MRank: 2.8478\n",
      "\n",
      "{'ndcg': 0.653404712677002}\n",
      "1.0\n",
      "R1: 0.5580, R5: 0.8536, R10: 0.9313, MRR: 0.6900, MRank: 3.3360\n",
      "\n",
      "{'ndcg': 0.6489458680152893}\n"
     ]
    },
    {
     "data": {
      "text/plain": [
       "[Text(0.5, 0, '$\\\\alpha$')]"
      ]
     },
     "execution_count": 10,
     "metadata": {},
     "output_type": "execute_result"
    },
    {
     "data": {
      "image/png": "[encoded data removed]",
      "text/plain": [
       "<Figure size 432x288 with 1 Axes>"
      ]
     },
     "metadata": {},
     "output_type": "display_data"
    }
   ],
   "source": [
    "compare_mrr_mrr = pd.DataFrame([])\n",
    "for alpha in np.arange(0,1.1,0.1):\n",
    "    print(alpha)\n",
    "    ndcg_result, mrr_result = eval_model(alpha*mrr_bert_model+(1-alpha)*fga_ensemble)\n",
    "    row = pd.Series({'mrr': mrr_result, 'ndcg': ndcg_result}, name=alpha)\n",
    "    compare_mrr_mrr = compare_mrr_mrr.append(row)\n",
    "ax = sns.lineplot(data=compare_mrr_mrr)\n",
    "sns.despine()\n",
    "ax.set(xlabel=r'$\\alpha$')"
   ]
  },
  {
   "cell_type": "code",
   "execution_count": 11,
   "id": "french-mayor",
   "metadata": {},
   "outputs": [],
   "source": [
    "alpha = 0.9\n",
    "best_mrr = scores_norm(alpha*mrr_bert_model+(1-alpha)*fga_ensemble)"
   ]
  },
  {
   "cell_type": "markdown",
   "id": "amber-administrator",
   "metadata": {},
   "source": [
    "## MRR + NDCG naive ensemble"
   ]
  },
  {
   "cell_type": "code",
   "execution_count": 12,
   "id": "equal-valve",
   "metadata": {},
   "outputs": [],
   "source": [
    "ndcg_model = scores_norm(align_bert_model(f\"{models_dir}/visdial-bert/val_scores.npy\", best_mrr))"
   ]
  },
  {
   "cell_type": "code",
   "execution_count": 13,
   "id": "packed-impossible",
   "metadata": {},
   "outputs": [
    {
     "name": "stdout",
     "output_type": "stream",
     "text": [
      "0.0\n",
      "R1: 0.5920, R5: 0.8855, R10: 0.9452, MRR: 0.7225, MRank: 2.8478\n",
      "\n",
      "{'ndcg': 0.653404712677002}\n",
      "0.1\n",
      "R1: 0.5920, R5: 0.8849, R10: 0.9450, MRR: 0.7223, MRank: 2.8663\n",
      "\n",
      "{'ndcg': 0.6650533676147461}\n",
      "0.2\n",
      "R1: 0.5913, R5: 0.8845, R10: 0.9440, MRR: 0.7217, MRank: 2.8881\n",
      "\n",
      "{'ndcg': 0.672343909740448}\n",
      "0.30000000000000004\n",
      "R1: 0.5905, R5: 0.8836, R10: 0.9431, MRR: 0.7208, MRank: 2.9127\n",
      "\n",
      "{'ndcg': 0.6808881163597107}\n",
      "0.4\n",
      "R1: 0.5897, R5: 0.8825, R10: 0.9419, MRR: 0.7196, MRank: 2.9484\n",
      "\n",
      "{'ndcg': 0.6892675757408142}\n",
      "0.5\n",
      "R1: 0.5900, R5: 0.8795, R10: 0.9403, MRR: 0.7184, MRank: 2.9934\n",
      "\n",
      "{'ndcg': 0.6981897950172424}\n",
      "0.6000000000000001\n",
      "R1: 0.5880, R5: 0.8740, R10: 0.9381, MRR: 0.7153, MRank: 3.0627\n",
      "\n",
      "{'ndcg': 0.7092170119285583}\n",
      "0.7000000000000001\n",
      "R1: 0.5829, R5: 0.8651, R10: 0.9328, MRR: 0.7083, MRank: 3.1890\n",
      "\n",
      "{'ndcg': 0.7224642634391785}\n",
      "0.8\n",
      "R1: 0.5679, R5: 0.8424, R10: 0.9237, MRR: 0.6914, MRank: 3.4388\n",
      "\n",
      "{'ndcg': 0.7378524541854858}\n",
      "0.9\n",
      "R1: 0.5283, R5: 0.7872, R10: 0.8959, MRR: 0.6480, MRank: 4.0791\n",
      "\n",
      "{'ndcg': 0.7536729574203491}\n",
      "1.0\n",
      "R1: 0.3992, R5: 0.6502, R10: 0.8055, MRR: 0.5219, MRank: 6.2389\n",
      "\n",
      "{'ndcg': 0.7517609596252441}\n"
     ]
    },
    {
     "data": {
      "text/plain": [
       "[Text(0.5, 0, '$\\\\alpha$')]"
      ]
     },
     "execution_count": 13,
     "metadata": {},
     "output_type": "execute_result"
    },
    {
     "data": {
      "image/png": "[encoded data removed]",
      "text/plain": [
       "<Figure size 432x288 with 1 Axes>"
      ]
     },
     "metadata": {},
     "output_type": "display_data"
    }
   ],
   "source": [
    "compare_mrr_ndcg = pd.DataFrame([])\n",
    "for alpha in np.arange(0,1.1,0.1):\n",
    "    print(alpha)\n",
    "    ndcg_result, mrr_result = eval_model(alpha*ndcg_model + (1-alpha)*best_mrr)\n",
    "    row = pd.Series({'mrr': mrr_result, 'ndcg': ndcg_result}, name=alpha)\n",
    "    compare_mrr_ndcg = compare_mrr_ndcg.append(row)\n",
    "ax = sns.lineplot(data=compare_mrr_ndcg)\n",
    "sns.despine()\n",
    "ax.set(xlabel=r'$\\alpha$')"
   ]
  },
  {
   "cell_type": "markdown",
   "id": "animal-necessity",
   "metadata": {},
   "source": [
    "# Two-step ranks ensemble"
   ]
  },
  {
   "cell_type": "markdown",
   "id": "constitutional-quarterly",
   "metadata": {},
   "source": [
    "#### Turn scores to ranks"
   ]
  },
  {
   "cell_type": "code",
   "execution_count": 14,
   "id": "palestinian-richardson",
   "metadata": {},
   "outputs": [],
   "source": [
    "fga_ranks = fga_ensemble.data.sort(dim=1, descending=True)[1].tolist()\n",
    "ndcg_ranks = ndcg_model.data.sort(dim=1, descending=True)[1].tolist()\n",
    "mrr_nsp_ranks = mrr_nsp_model.data.sort(dim=1, descending=True)[1].tolist()\n",
    "best_mrr_ranks = best_mrr.data.sort(dim=1, descending=True)[1].tolist()"
   ]
  },
  {
   "cell_type": "code",
   "execution_count": 15,
   "id": "specified-twins",
   "metadata": {},
   "outputs": [
    {
     "name": "stdout",
     "output_type": "stream",
     "text": [
      "R1: 0.5918, R5: 0.8458, R10: 0.9078, MRR: 0.7125, MRank: 3.6215\n",
      "\n",
      "{'ndcg': 0.7316976189613342}\n",
      "mrr set size 2.9299903100775193\n"
     ]
    }
   ],
   "source": [
    "f1, f2, f3 = [True, True, True]\n",
    "final_model = []\n",
    "mrr_set_len = list()\n",
    "number_of_dialogs = len(fga_ranks)\n",
    "for dialog_round in range(number_of_dialogs):   \n",
    "    remain_list = list()\n",
    "    H = set()\n",
    "    T = set()\n",
    "    N = set()\n",
    "    c = Counter(fga_ranks[dialog_round][:3]\n",
    "                + best_mrr_ranks[dialog_round][:3]\n",
    "                + mrr_nsp_ranks[dialog_round][:1])\n",
    "    for k, v in c.most_common():\n",
    "        if f1 and ((((k in fga_ranks[dialog_round][:3]) and\n",
    "                    (k in best_mrr_ranks[dialog_round][:5])))):\n",
    "            remain_list.append(k)\n",
    "            H.add(k)\n",
    "        elif f2 and (k == fga_ranks[dialog_round][0]\n",
    "                     or k == best_mrr_ranks[dialog_round][0]):\n",
    "            remain_list.append(k)\n",
    "            T.add(k)\n",
    "        elif f3 and (k in ndcg_ranks[dialog_round][:5]):\n",
    "            remain_list.append(k)\n",
    "            N.add(k)\n",
    "    top_ranks = list()\n",
    "    for ans_r in remain_list:\n",
    "        top_ranks.append((ans_r, np.prod([l.index(ans_r) + 1 for l in [fga_ranks[dialog_round],\n",
    "                                                                       best_mrr_ranks[dialog_round],\n",
    "                                                                       best_mrr_ranks[dialog_round],\n",
    "                                                                       mrr_nsp_ranks[dialog_round]]])))\n",
    "    mrr_round_ranks = [x[0] for x in sorted(top_ranks, key=lambda x: x[1])]\n",
    "\n",
    "    other_answers = set(list(range(100))) - set(mrr_round_ranks)\n",
    "\n",
    "    top_others = list()\n",
    "    for ans_n in other_answers:\n",
    "            top_others.append((ans_n, np.sum([l.index(ans_n) + 1 for l in [ndcg_ranks[dialog_round]]*3 + \n",
    "                                                                           [best_mrr_ranks[dialog_round]]])))\n",
    "    ndcg_round_ranks = [x[0] for x in sorted(top_others, key=lambda x: x[1])]\n",
    "    mrr_set_len.append(len(mrr_round_ranks))\n",
    "    round_ranks = mrr_round_ranks + ndcg_round_ranks\n",
    "    assert len(round_ranks) == 100\n",
    "\n",
    "    submission_ranks = list()\n",
    "    for i in range(100):\n",
    "        submission_ranks.append(round_ranks.index(i) + 1)\n",
    "    final_model.append(submission_ranks)\n",
    "final_model_scores = F.softmax(100-torch.FloatTensor(final_model), dim=1)\n",
    "eval_model(final_model_scores)\n",
    "print(f\"mrr set size {sum(mrr_set_len)/len(mrr_set_len)}\")"
   ]
  },
  {
   "cell_type": "markdown",
   "id": "radical-telephone",
   "metadata": {},
   "source": [
    "# Test-std json output (for EvalAI)"
   ]
  },
  {
   "cell_type": "code",
   "execution_count": 16,
   "id": "amino-graham",
   "metadata": {},
   "outputs": [],
   "source": [
    "# FGA ensemble\n",
    "fga_ensemble_test = torch.zeros(size=(80000,100))\n",
    "for m in models:\n",
    "    test_output = torch.Tensor(np.load(f\"{models_dir}/{m}/output_scores_mrr.npy\")).view(-1, 100)\n",
    "    fga_ensemble_test += F.softmax(test_output, dim=1).data\n",
    "fga_ensemble_test = fga_ensemble_test.view(-1,10,100)\n",
    "\n",
    "temp = torch.empty(size=(8000, 100))\n",
    "for i in range(8000):\n",
    "    temp[i] = fga_ensemble_test[i][h5['num_rounds_test'][i] - 1]\n",
    "FGA_ensemble_test = scores_norm(temp)\n",
    "\n",
    "# MRR ensemble\n",
    "MRR_bert_model_scores  = scores_norm(torch.Tensor(np.load(f\"{models_dir}/visdial-bert/mrrtest_scores.npy\")).view(-1, 100))\n",
    "alpha = 0.9\n",
    "MRR_ensemble = scores_norm(alpha*MRR_bert_model_scores+(1-alpha)*FGA_ensemble_test)\n",
    "\n",
    "#NDCG mrr_scores\n",
    "NDCG_model_scores  = scores_norm(torch.Tensor(np.load(f\"{models_dir}/visdial-bert/densetest_scores.npy\")).view(-1, 100))\n",
    "MRR_NSP_bert_model_scores = scores_norm(torch.Tensor(np.load(f\"{models_dir}/visdial-bert/mrr_nsptest_scores.npy\")).view(-1, 100))"
   ]
  },
  {
   "cell_type": "markdown",
   "id": "delayed-quest",
   "metadata": {},
   "source": [
    "### naive ensemble"
   ]
  },
  {
   "cell_type": "code",
   "execution_count": 17,
   "id": "smart-tourist",
   "metadata": {},
   "outputs": [],
   "source": [
    "MRR_NDCG_ranks = scores_to_ranks((0.2*MRR_ensemble + 0.8*NDCG_model_scores).view(8000, 1, 100))"
   ]
  },
  {
   "cell_type": "code",
   "execution_count": 18,
   "id": "designed-table",
   "metadata": {},
   "outputs": [
    {
     "name": "stdout",
     "output_type": "stream",
     "text": [
      "done\n"
     ]
    }
   ],
   "source": [
    "submission_json = list()\n",
    "for i in range(8000):\n",
    "    submission_json.append({\n",
    "       'image_id': int(js[f\"unique_img_test\"][i][-16:-4]),\n",
    "       'round_id': int(h5['num_rounds_test'][i]),\n",
    "       'ranks': MRR_NDCG_ranks[i][0].tolist()\n",
    "    })\n",
    "json.dump(submission_json, open('ensemble_mrr_ndcg.json', 'w'))\n",
    "print(\"done\")"
   ]
  },
  {
   "cell_type": "markdown",
   "id": "assured-bicycle",
   "metadata": {},
   "source": [
    "### Two-step ranks"
   ]
  },
  {
   "cell_type": "code",
   "execution_count": 19,
   "id": "recovered-average",
   "metadata": {},
   "outputs": [],
   "source": [
    "NDCG_model_ranks = NDCG_model_scores.data.sort(dim=1, descending=True)[1].tolist()\n",
    "MRR_ensemble_ranks = MRR_ensemble.data.sort(dim=1, descending=True)[1].tolist()\n",
    "FGA_model_ranks = FGA_ensemble_test.data.sort(dim=1, descending=True)[1].tolist()\n",
    "MRR_NSP_bert_model_ranks = MRR_NSP_bert_model_scores.data.sort(dim=1, descending=True)[1].tolist()"
   ]
  },
  {
   "cell_type": "code",
   "execution_count": 20,
   "id": "according-simple",
   "metadata": {},
   "outputs": [
    {
     "name": "stdout",
     "output_type": "stream",
     "text": [
      "done\n"
     ]
    }
   ],
   "source": [
    "f1, f2, f3 = True, True, True\n",
    "final_rank = []\n",
    "number_of_dialogs = len(MRR_ensemble_ranks)\n",
    "for dialog_round in range(number_of_dialogs):   \n",
    "    remain_list = list()\n",
    "    H = set()\n",
    "    T = set()\n",
    "    N = set()\n",
    "    c = Counter(FGA_model_ranks[dialog_round][:10]\n",
    "                + MRR_ensemble_ranks[dialog_round][:10]\n",
    "                + MRR_NSP_bert_model_ranks[dialog_round][:1])\n",
    "    for k, v in c.most_common():\n",
    "        if f1 and ((((k in FGA_model_ranks[dialog_round][:3]) and\n",
    "                    (k in MRR_ensemble_ranks[dialog_round][:5])))):\n",
    "            remain_list.append(k)\n",
    "            H.add(k)\n",
    "        elif f2 and (k == FGA_model_ranks[dialog_round][0]\n",
    "                     or k == MRR_ensemble_ranks[dialog_round][0]):\n",
    "            remain_list.append(k)\n",
    "            T.add(k)\n",
    "        elif f3 and (k in NDCG_model_ranks[dialog_round][:5]):\n",
    "            remain_list.append(k)\n",
    "            N.add(k)\n",
    "   \n",
    "    top_ranks = list()\n",
    "    for ans_r in remain_list:\n",
    "        top_ranks.append((ans_r, np.prod([l.index(ans_r) + 1 for l in [FGA_model_ranks[dialog_round],\n",
    "                                                                       MRR_ensemble_ranks[dialog_round],\n",
    "                                                                       MRR_ensemble_ranks[dialog_round],\n",
    "                                                                       MRR_NSP_bert_model_ranks[dialog_round]]])))\n",
    "    mrr_round_ranks = [x[0] for x in sorted(top_ranks, key=lambda x: x[1])]\n",
    "\n",
    "    other_answers = set(list(range(100))) - set(mrr_round_ranks)\n",
    "\n",
    "    top_others = list()\n",
    "    for ans_n in other_answers:\n",
    "        top_others.append((ans_n, np.sum([l.index(ans_n) + 1 for l in [NDCG_model_ranks[dialog_round],\n",
    "                                                                       NDCG_model_ranks[dialog_round],\n",
    "                                                                       NDCG_model_ranks[dialog_round],\n",
    "                                                                       MRR_ensemble_ranks[dialog_round]]])))\n",
    "    ndcg_round_ranks = [x[0] for x in sorted(top_others, key=lambda x: x[1])]\n",
    "\n",
    "    round_ranks = mrr_round_ranks + ndcg_round_ranks\n",
    "    submission_ranks = list()\n",
    "    for i in range(100):\n",
    "        submission_ranks.append(round_ranks.index(i) + 1)\n",
    "    assert len(round_ranks) == 100\n",
    "    final_rank.append({\n",
    "       'image_id': int(js[f\"unique_img_test\"][dialog_round][-16:-4]),\n",
    "       'round_id': int(h5['num_rounds_test'][dialog_round]),\n",
    "       'ranks': submission_ranks\n",
    "    })\n",
    "json.dump(final_rank, open('two_step.json', 'w'))\n",
    "print(\"done\")"
   ]
  }
 ],
 "metadata": {
  "kernelspec": {
   "display_name": "Python 3",
   "language": "python",
   "name": "python3"
  },
  "language_info": {
   "codemirror_mode": {
    "name": "ipython",
    "version": 3
   },
   "file_extension": ".py",
   "mimetype": "text/x-python",
   "name": "python",
   "nbconvert_exporter": "python",
   "pygments_lexer": "ipython3",
   "version": "3.8.3"
  }
 },
 "nbformat": 4,
 "nbformat_minor": 5
}
